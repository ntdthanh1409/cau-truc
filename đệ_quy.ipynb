{
  "nbformat": 4,
  "nbformat_minor": 0,
  "metadata": {
    "colab": {
      "name": "đệ quy.ipynb",
      "provenance": [],
      "include_colab_link": true
    },
    "kernelspec": {
      "name": "python3",
      "display_name": "Python 3"
    }
  },
  "cells": [
    {
      "cell_type": "markdown",
      "metadata": {
        "id": "view-in-github",
        "colab_type": "text"
      },
      "source": [
        "<a href=\"https://colab.research.google.com/github/khoa2210/cautruc/blob/main/%C4%91%E1%BB%87_quy.ipynb\" target=\"_parent\"><img src=\"https://colab.research.google.com/assets/colab-badge.svg\" alt=\"Open In Colab\"/></a>"
      ]
    },
    {
      "cell_type": "code",
      "metadata": {
        "id": "6u7wBbF85bML"
      },
      "source": [
        "def thapHaNoi(n, toaMot, toaHai, toaBa):\n",
        "\n",
        "    if n == 1:\n",
        "        print(\"Chuyen tu\", toaMot, \"sang\", toaBa)\n",
        "    else:\n",
        "        thapHaNoi(n-1,toaMot,toaBa ,toaHai)\n",
        "        print(\"Chuyen tu\", toaMot, \"sang\", toaBa)\n",
        "        thapHaNoi(n-1,toaHai,toaMot, toaBa)"
      ],
      "execution_count": 1,
      "outputs": []
    },
    {
      "cell_type": "code",
      "metadata": {
        "colab": {
          "base_uri": "https://localhost:8080/"
        },
        "id": "C0KP_nQX5iET",
        "outputId": "5abeb528-b59e-49f5-af44-c50052f66f4d"
      },
      "source": [
        "thapHaNoi(5,'A','B','C')"
      ],
      "execution_count": 2,
      "outputs": [
        {
          "output_type": "stream",
          "text": [
            "Chuyen tu A sang C\n",
            "Chuyen tu A sang B\n",
            "Chuyen tu C sang B\n",
            "Chuyen tu A sang C\n",
            "Chuyen tu B sang A\n",
            "Chuyen tu B sang C\n",
            "Chuyen tu A sang C\n",
            "Chuyen tu A sang B\n",
            "Chuyen tu C sang B\n",
            "Chuyen tu C sang A\n",
            "Chuyen tu B sang A\n",
            "Chuyen tu C sang B\n",
            "Chuyen tu A sang C\n",
            "Chuyen tu A sang B\n",
            "Chuyen tu C sang B\n",
            "Chuyen tu A sang C\n",
            "Chuyen tu B sang A\n",
            "Chuyen tu B sang C\n",
            "Chuyen tu A sang C\n",
            "Chuyen tu B sang A\n",
            "Chuyen tu C sang B\n",
            "Chuyen tu C sang A\n",
            "Chuyen tu B sang A\n",
            "Chuyen tu B sang C\n",
            "Chuyen tu A sang C\n",
            "Chuyen tu A sang B\n",
            "Chuyen tu C sang B\n",
            "Chuyen tu A sang C\n",
            "Chuyen tu B sang A\n",
            "Chuyen tu B sang C\n",
            "Chuyen tu A sang C\n"
          ],
          "name": "stdout"
        }
      ]
    },
    {
      "cell_type": "code",
      "metadata": {
        "colab": {
          "base_uri": "https://localhost:8080/"
        },
        "id": "mkrG1FvF5uIY",
        "outputId": "0d6f273b-4be2-4c9b-93f6-082a662feda8"
      },
      "source": [
        "def ucln(a, b):\n",
        "    if (b == 0):\n",
        "        return a\n",
        "    return ucln(b, a % b)\n",
        "ucln(15,20)"
      ],
      "execution_count": 3,
      "outputs": [
        {
          "output_type": "execute_result",
          "data": {
            "text/plain": [
              "5"
            ]
          },
          "metadata": {
            "tags": []
          },
          "execution_count": 3
        }
      ]
    }
  ]
}
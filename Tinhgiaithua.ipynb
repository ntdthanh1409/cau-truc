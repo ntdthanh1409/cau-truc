{
  "nbformat": 4,
  "nbformat_minor": 0,
  "metadata": {
    "colab": {
      "name": "Tinhgiaithua.ipynb",
      "provenance": [],
      "authorship_tag": "ABX9TyOqUwu3cMzWadVDnOygKRwA",
      "include_colab_link": true
    },
    "kernelspec": {
      "name": "python3",
      "display_name": "Python 3"
    },
    "language_info": {
      "name": "python"
    }
  },
  "cells": [
    {
      "cell_type": "markdown",
      "metadata": {
        "id": "view-in-github",
        "colab_type": "text"
      },
      "source": [
        "<a href=\"https://colab.research.google.com/github/khoa2210/cautruc/blob/main/Tinhgiaithua.ipynb\" target=\"_parent\"><img src=\"https://colab.research.google.com/assets/colab-badge.svg\" alt=\"Open In Colab\"/></a>"
      ]
    },
    {
      "cell_type": "code",
      "metadata": {
        "id": "yg2PuYeG9etH",
        "colab": {
          "base_uri": "https://localhost:8080/"
        },
        "outputId": "7e96b3e1-3852-42fc-be41-825740240893"
      },
      "source": [
        "def tinhgiaithua(n):\n",
        "    giai_thua = 1;\n",
        "    if (n == 0 or n == 1):\n",
        "        return giai_thua;\n",
        "    else:\n",
        "        for i in range(2, n + 1):\n",
        "            giai_thua = giai_thua * i;\n",
        "        return giai_thua;\n",
        "\n",
        "\n",
        "n = int(input(\"Nhập số nguyên dương n = \"));\n",
        "print(\"Giai thừa của\", n, \"là\", tinhgiaithua(n));"
      ],
      "execution_count": 3,
      "outputs": [
        {
          "output_type": "stream",
          "text": [
            "Nhập số nguyên dương n = 4\n",
            "Giai thừa của 4 là 24\n"
          ],
          "name": "stdout"
        }
      ]
    }
  ]
}
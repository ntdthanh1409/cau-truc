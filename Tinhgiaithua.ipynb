def giaiThua(n):
    if n == 0:
        return 1
    return n * giaiThua(n - 1)
 

n = int(input("Nhập số cần tính giai thừa: ")) 
print (giaiThua(n))

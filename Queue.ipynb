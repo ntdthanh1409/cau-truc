{
  "nbformat": 4,
  "nbformat_minor": 0,
  "metadata": {
    "colab": {
      "name": "Queue.ipynb",
      "provenance": [],
      "authorship_tag": "ABX9TyM0TTaByOTp5w2c++AEoKpr",
      "include_colab_link": true
    },
    "kernelspec": {
      "name": "python3",
      "display_name": "Python 3"
    },
    "language_info": {
      "name": "python"
    }
  },
  "cells": [
    {
      "cell_type": "markdown",
      "metadata": {
        "id": "view-in-github",
        "colab_type": "text"
      },
      "source": [
        "<a href=\"https://colab.research.google.com/github/khoa2210/cautruc/blob/main/Queue.ipynb\" target=\"_parent\"><img src=\"https://colab.research.google.com/assets/colab-badge.svg\" alt=\"Open In Colab\"/></a>"
      ]
    },
    {
      "cell_type": "code",
      "metadata": {
        "colab": {
          "base_uri": "https://localhost:8080/"
        },
        "id": "zrS2TdcOGqlr",
        "outputId": "bba73c86-7a2c-477e-f64d-5ab5a4361e34"
      },
      "source": [
        "class Queue:  \n",
        "    def __init__(self): \n",
        "        self.s1 = [] \n",
        "        self.s2 = [] \n",
        "  \n",
        "    def enQueue(self, x): \n",
        "          \n",
        "        # Move all elements from s1 to s2  \n",
        "        while len(self.s1) != 0:  \n",
        "            self.s2.append(self.s1[-1])  \n",
        "            self.s1.pop() \n",
        "  \n",
        "        # Push item into self.s1  \n",
        "        self.s1.append(x)  \n",
        "  \n",
        "        # Push everything back to s1  \n",
        "        while len(self.s2) != 0:  \n",
        "            self.s1.append(self.s2[-1])  \n",
        "            self.s2.pop() \n",
        "  \n",
        "    # Dequeue an item from the queue  \n",
        "    def deQueue(self): \n",
        "          \n",
        "            # if first stack is empty  \n",
        "        if len(self.s1) == 0:  \n",
        "            print(\"Q is Empty\") \n",
        "      \n",
        "        # Return top of self.s1  \n",
        "        x = self.s1[-1]  \n",
        "        self.s1.pop()  \n",
        "        return x \n",
        "  \n",
        "# Driver code  \n",
        "if __name__ == '__main__': \n",
        "    q = Queue() \n",
        "    q.enQueue(1)  \n",
        "    q.enQueue(2)  \n",
        "    q.enQueue(3)  \n",
        "  \n",
        "    print(q.deQueue()) \n",
        "    print(q.deQueue()) \n",
        "    print(q.deQueue()) "
      ],
      "execution_count": 1,
      "outputs": [
        {
          "output_type": "stream",
          "text": [
            "1\n",
            "2\n",
            "3\n"
          ],
          "name": "stdout"
        }
      ]
    }
  ]
}
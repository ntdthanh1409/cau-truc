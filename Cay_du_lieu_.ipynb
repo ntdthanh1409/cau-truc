{
  "nbformat": 4,
  "nbformat_minor": 0,
  "metadata": {
    "colab": {
      "name": "Cay du lieu .ipynb",
      "provenance": [],
      "authorship_tag": "ABX9TyNx3pAEL8zSsCW6VGpF6zup",
      "include_colab_link": true
    },
    "kernelspec": {
      "name": "python3",
      "display_name": "Python 3"
    },
    "language_info": {
      "name": "python"
    }
  },
  "cells": [
    {
      "cell_type": "markdown",
      "metadata": {
        "id": "view-in-github",
        "colab_type": "text"
      },
      "source": [
        "<a href=\"https://colab.research.google.com/github/khoa2210/cautruc/blob/main/Cay_du_lieu_.ipynb\" target=\"_parent\"><img src=\"https://colab.research.google.com/assets/colab-badge.svg\" alt=\"Open In Colab\"/></a>"
      ]
    },
    {
      "cell_type": "code",
      "metadata": {
        "id": "GL7lfn7IIQZR"
      },
      "source": [
        "class Node: \n",
        "\tdef __init__(self,key): \n",
        "\t\tself.left = None\n",
        "\t\tself.right = None\n",
        "\t\tself.val = key \n",
        "\n",
        "\n",
        "# create root \n",
        "root = Node(1) \n",
        "root.left\t = Node(2); \n",
        "root.right\t = Node(3); \n",
        "root.left.left = Node(4); "
      ],
      "execution_count": 2,
      "outputs": []
    }
  ]
}
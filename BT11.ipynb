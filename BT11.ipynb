{
  "nbformat": 4,
  "nbformat_minor": 0,
  "metadata": {
    "colab": {
      "name": "Duyet cay thu tu sau.ipynb",
      "provenance": [],
      "include_colab_link": true
    },
    "kernelspec": {
      "name": "python3",
      "display_name": "Python 3"
    },
    "language_info": {
      "name": "python"
    }
  },
  "cells": [
    {
      "cell_type": "markdown",
      "metadata": {
        "id": "view-in-github",
        "colab_type": "text"
      },
      "source": [
        "<a href=\"https://colab.research.google.com/github/ntdthanh1409/cau-truc/blob/main/BT11.ipynb\" target=\"_parent\"><img src=\"https://colab.research.google.com/assets/colab-badge.svg\" alt=\"Open In Colab\"/></a>"
      ]
    },
    {
      "cell_type": "code",
      "metadata": {
        "colab": {
          "base_uri": "https://localhost:8080/"
        },
        "id": "qqrVbBqSisa1",
        "outputId": "78ae43ed-1a8c-4ae1-f065-0906ebf098b2"
      },
      "source": [
        "class Node:\n",
        "\n",
        "    def __init__(self, data):\n",
        "\n",
        "        self.left = None\n",
        "        self.right = None\n",
        "        self.data = data\n",
        "# Insert Node\n",
        "    def insert(self, data):\n",
        "\n",
        "        if self.data:\n",
        "            if data < self.data:\n",
        "                if self.left is None:\n",
        "                    self.left = Node(data)\n",
        "                else:\n",
        "                    self.left.insert(data)\n",
        "            elif data > self.data:\n",
        "                if self.right is None:\n",
        "                    self.right = Node(data)\n",
        "                else:\n",
        "                    self.right.insert(data)\n",
        "        else:\n",
        "            self.data = data\n",
        "\n",
        "# Print the Tree\n",
        "    def PrintTree(self):\n",
        "        if self.left:\n",
        "            self.left.PrintTree()\n",
        "        print( self.data),\n",
        "        if self.right:\n",
        "            self.right.PrintTree()\n",
        "\n",
        "# Preorder traversal\n",
        "# Root -> Left ->Right\n",
        "    def PreorderTraversal(self, root):\n",
        "        res = []\n",
        "        if root:\n",
        "            res.append(root.data)\n",
        "            res = res + self.PreorderTraversal(root.left)\n",
        "            res = res + self.PreorderTraversal(root.right)\n",
        "        return res\n",
        "\n",
        "root = Node(27)\n",
        "root.insert(14)\n",
        "root.insert(35)\n",
        "root.insert(10)\n",
        "root.insert(19)\n",
        "root.insert(31)\n",
        "root.insert(42)\n",
        "print(root.PreorderTraversal(root))"
      ],
      "execution_count": null,
      "outputs": [
        {
          "output_type": "stream",
          "text": [
            "[27, 14, 10, 19, 35, 31, 42]\n"
          ],
          "name": "stdout"
        }
      ]
    }
  ]
}
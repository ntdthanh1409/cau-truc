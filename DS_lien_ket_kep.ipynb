{
  "nbformat": 4,
  "nbformat_minor": 0,
  "metadata": {
    "colab": {
      "name": "DS lien ket kep.ipynb",
      "provenance": [],
      "authorship_tag": "ABX9TyMjBbUZqS02GqEfX/No5pxE",
      "include_colab_link": true
    },
    "kernelspec": {
      "name": "python3",
      "display_name": "Python 3"
    },
    "language_info": {
      "name": "python"
    }
  },
  "cells": [
    {
      "cell_type": "markdown",
      "metadata": {
        "id": "view-in-github",
        "colab_type": "text"
      },
      "source": [
        "<a href=\"https://colab.research.google.com/github/khoa2210/cautruc/blob/main/DS_lien_ket_kep.ipynb\" target=\"_parent\"><img src=\"https://colab.research.google.com/assets/colab-badge.svg\" alt=\"Open In Colab\"/></a>"
      ]
    },
    {
      "cell_type": "code",
      "metadata": {
        "id": "9mzbWDyXEuyq"
      },
      "source": [
        "# Node of a doubly linked list  \n",
        "class Node: \n",
        "    def __init__(self, next=None, prev=None, data=None): \n",
        "        self.next = next # reference to next node in DLL \n",
        "        self.prev = prev # reference to previous node in DLL \n",
        "        self.data = data \n",
        "# Adding a node at the front of the list \n",
        "def push(self, new_data): \n",
        "  \n",
        "    # 1 & 2: Allocate the Node & Put in the data \n",
        "    new_node = Node(data = new_data) \n",
        "  \n",
        "    # 3. Make next of new node as head and previous as NULL \n",
        "    new_node.next = self.head \n",
        "    new_node.prev = None\n",
        "  \n",
        "    # 4. change prev of head node to new node  \n",
        "    if self.head is not None: \n",
        "        self.head.prev = new_node \n",
        "  \n",
        "    # 5. move the head to point to the new node \n",
        "    self.head = new_node  "
      ],
      "execution_count": 1,
      "outputs": []
    }
  ]
}
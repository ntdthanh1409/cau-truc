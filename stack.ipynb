{
  "nbformat": 4,
  "nbformat_minor": 0,
  "metadata": {
    "colab": {
      "name": "stack.ipynb",
      "provenance": [],
      "authorship_tag": "ABX9TyNAZBg/LPWfb0QYRcB9Rr8Q",
      "include_colab_link": true
    },
    "kernelspec": {
      "name": "python3",
      "display_name": "Python 3"
    },
    "language_info": {
      "name": "python"
    }
  },
  "cells": [
    {
      "cell_type": "markdown",
      "metadata": {
        "id": "view-in-github",
        "colab_type": "text"
      },
      "source": [
        "<a href=\"https://colab.research.google.com/github/khoa2210/cautruc/blob/main/stack.ipynb\" target=\"_parent\"><img src=\"https://colab.research.google.com/assets/colab-badge.svg\" alt=\"Open In Colab\"/></a>"
      ]
    },
    {
      "cell_type": "code",
      "metadata": {
        "id": "4-XTswpXGR4M"
      },
      "source": [
        "# Python program for implementation of stack \n",
        "  \n",
        "# import maxsize from sys module  \n",
        "# Used to return -infinite when stack is empty \n",
        "from sys import maxsize \n",
        "  \n",
        "# Function to create a stack. It initializes size of stack as 0 \n",
        "def createStack(): \n",
        "    stack = [] \n",
        "    return stack \n",
        "  \n",
        "# Stack is empty when stack size is 0 \n",
        "def isEmpty(stack): \n",
        "    return len(stack) == 0\n",
        "  \n",
        "# Function to add an item to stack. It increases size by 1 \n",
        "def push(stack, item): \n",
        "    stack.append(item) \n",
        "    print(item + \" pushed to stack \") \n",
        "      \n",
        "# Function to remove an item from stack. It decreases size by 1 \n",
        "def pop(stack): \n",
        "    if (isEmpty(stack)): \n",
        "        return str(-maxsize -1) # return minus infinite \n",
        "      \n",
        "    return stack.pop() \n",
        "  \n",
        "# Function to return the top from stack without removing it \n",
        "def peek(stack): \n",
        "    if (isEmpty(stack)): \n",
        "        return str(-maxsize -1) # return minus infinite \n",
        "    return stack[len(stack) - 1] \n",
        "  \n",
        "# Driver program to test above functions     \n",
        "stack = createStack() \n",
        "push(stack, str(10)) \n",
        "push(stack, str(20)) \n",
        "push(stack, str(30)) \n",
        "print(pop(stack) + \" popped from stack\") "
      ],
      "execution_count": null,
      "outputs": []
    }
  ]
}